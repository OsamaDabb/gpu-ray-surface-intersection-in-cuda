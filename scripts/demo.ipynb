{
 "cells": [
  {
   "cell_type": "markdown",
   "id": "cf3aca48",
   "metadata": {},
   "source": [
    "## gpu-rsi demonstration\n",
    "This notebook uses the PyGpuRSI wrapper class defined in the\n",
    "PyGpuRaySurfaceIntersect module to execute the CUDA code that\n",
    "checks for line-segment and surface-triangle intersection."
   ]
  },
  {
   "cell_type": "code",
   "execution_count": 1,
   "id": "4c730262",
   "metadata": {},
   "outputs": [],
   "source": [
    "__copyright__ = \"Copyright (c) 2022, Raymond Leung\"\n",
    "__license__   = \"BSD-3-clause\""
   ]
  },
  {
   "cell_type": "code",
   "execution_count": null,
   "id": "85114782",
   "metadata": {},
   "outputs": [],
   "source": [
    "import numpy as np\n",
    "import os, shutil, sys\n",
    "from input_synthesis import synthesize_data\n",
    "from gpu_ray_surface_intersect import PyGpuRSI"
   ]
  },
  {
   "cell_type": "code",
   "execution_count": null,
   "id": "89517331",
   "metadata": {},
   "outputs": [],
   "source": [
    "GPU_CODE_DIR = os.getcwd().replace('scripts', '')\n",
    "WORK_DIR = os.getcwd().replace('scripts', 'scratch')\n",
    "DATA_DIR = os.path.join(WORK_DIR, 'input')\n",
    "if not os.path.exists(DATA_DIR):\n",
    "    os.makedirs(DATA_DIR)\n",
    "os.chdir(WORK_DIR)"
   ]
  },
  {
   "cell_type": "code",
   "execution_count": null,
   "id": "a968c5f9",
   "metadata": {},
   "outputs": [],
   "source": [
    "# Synthesize the input data\n",
    "synthesize_data(DATA_DIR, n_triangles_approx=5000, n_rays=10000,\n",
    "                show_graphics=True, save_results_in_binary=True)"
   ]
  },
  {
   "cell_type": "code",
   "execution_count": null,
   "id": "6634fb8b",
   "metadata": {},
   "outputs": [],
   "source": [
    "# This step is not needed in standard workflow since (vertices, triangles, rayFrom,\n",
    "# rayTo) would normally exist as numpy arrays. Here, we read these from files instead.\n",
    "def bin2array(filename, precision, dims=2):\n",
    "    with open(filename, 'rb') as f:\n",
    "        data = np.fromfile(f, dtype=precision)\n",
    "    return data.reshape([int(len(data)/3), 3]) if dims==2 else data\n",
    "\n",
    "vertices = bin2array('input/vertices_f32', np.float32)\n",
    "triangles = bin2array('input/triangles_i32', np.int32)\n",
    "rayFrom = bin2array('input/rayFrom_f32', np.float32)\n",
    "rayTo = bin2array('input/rayTo_f32', np.float32)"
   ]
  },
  {
   "cell_type": "markdown",
   "id": "4f37bb0c",
   "metadata": {},
   "source": [
    "#### (Part A) Run CUDA program in \"boolean\" mode to return 0/1 intersection results"
   ]
  },
  {
   "cell_type": "markdown",
   "id": "a0115963",
   "metadata": {},
   "source": [
    "#### GPU ray-segment surface intersection tests are applied in two ways"
   ]
  },
  {
   "cell_type": "code",
   "execution_count": null,
   "id": "81451016",
   "metadata": {},
   "outputs": [],
   "source": [
    "# Approach 1:\n",
    "rsi = PyGpuRSI(GPU_CODE_DIR, WORK_DIR)\n",
    "# - compile CUDA code the first time\n",
    "# - subsequently, doesn't compile if GPU_BIN_TARGET already exists\n",
    "\n",
    "results = rsi.test(vertices, triangles, rayFrom, rayTo)\n",
    "# - The WORK_DIR contains source code and binary at this point\n",
    "# - You may run .test again using another surface by specifying\n",
    "#   new vertices and triangles, with both rayFrom and rayTo\n",
    "#   omitted, which means you will reuse the same line segments."
   ]
  },
  {
   "cell_type": "raw",
   "id": "f460b2e0",
   "metadata": {},
   "source": [
    "The test method basically invokes\n",
    "!{rsi.gpu_bin_target} {rsi.vertices_file} {rsi.triangles_file} {rsi.rayfrom_file} {rsi.rayto_file}\n",
    "\n",
    "but it also returns boolean results in a numpy array (dtype=int).\n",
    "    0 => ray does NOT intersect with surface\n",
    "    1 => ray intersects with surface"
   ]
  },
  {
   "cell_type": "code",
   "execution_count": null,
   "id": "fb86d688",
   "metadata": {},
   "outputs": [],
   "source": [
    "#- user is responsible for clean-up when work is finished\n",
    "rsi.cleanup()\n",
    "\n",
    "#- check if binary still exists\n",
    "gpu_bin_target = 'gpu_ray_surface_intersect.exe'\n",
    "if os.path.isfile(gpu_bin_target):\n",
    "    print(f'{gpu_bin_target} still exists')\n",
    "else:\n",
    "    print(f'{gpu_bin_target} has been removed')"
   ]
  },
  {
   "cell_type": "code",
   "execution_count": null,
   "id": "d827182c",
   "metadata": {},
   "outputs": [],
   "source": [
    "# Approach 2: using with statement (auto clean-up)\n",
    "# The `quiet` flag (optional) suppresses console output\n",
    "with PyGpuRSI(GPU_CODE_DIR, WORK_DIR, quiet=True) as rsi:\n",
    "    results2 = rsi.test(vertices, triangles, rayFrom, rayTo)"
   ]
  },
  {
   "cell_type": "code",
   "execution_count": null,
   "id": "a0ee173d",
   "metadata": {},
   "outputs": [],
   "source": [
    "all(results == results2)"
   ]
  },
  {
   "cell_type": "markdown",
   "id": "c6a7812b",
   "metadata": {},
   "source": [
    "#### (Part B) Run CUDA program in \"barycentric\" mode to return the distance to surface, intersecting triangle and intersecting point for each intersecting ray. "
   ]
  },
  {
   "cell_type": "code",
   "execution_count": null,
   "id": "8c9c94ff",
   "metadata": {},
   "outputs": [],
   "source": [
    "from input_synthesis import synthesize_data\n",
    "\n",
    "fw = lambda x: os.path.join('ínput', x)\n",
    "geom_info = {}\n",
    "\n",
    "synthesize_data(outdir=DATA_DIR, n_triangles_approx=5000, n_rays=10000,\n",
    "                show_graphics=False, save_results_in_binary=True,\n",
    "                perturb_centroid=True, feedback=geom_info)\n",
    "print('Created {}'.format(geom_info))\n",
    "vertices = bin2array('input/vertices_f32', np.float32)\n",
    "triangles = bin2array('input/triangles_i32', np.int32)\n",
    "rayFrom = bin2array('input/rayFrom_f32', np.float32)\n",
    "rayTo = bin2array('input/rayTo_f32', np.float32)"
   ]
  },
  {
   "cell_type": "code",
   "execution_count": null,
   "id": "95ecc30c",
   "metadata": {},
   "outputs": [],
   "source": [
    "# Configuration\n",
    "# Set operating mode to 'barycentric' to return\n",
    "# - intersecting rays\n",
    "# - distance from the starting point of the ray to the surface\n",
    "# - intersecting triangle\n",
    "# - intersecting point\n",
    "parms = {'mode':'barycentric', 'keep_cuda_binary': True}"
   ]
  },
  {
   "cell_type": "code",
   "execution_count": null,
   "id": "2078cb11",
   "metadata": {},
   "outputs": [],
   "source": [
    "# GPU ray-segment surface intersection tests are invoked below\n",
    "rsi = PyGpuRSI(GPU_CODE_DIR, WORK_DIR, cfg=parms)\n",
    "\n",
    "intersecting_rays, distances, hit_triangles, hit_points = \\\n",
    "      rsi.test(vertices, triangles, rayFrom, rayTo)"
   ]
  },
  {
   "cell_type": "code",
   "execution_count": null,
   "id": "5b2da1ef",
   "metadata": {},
   "outputs": [],
   "source": [
    "# Compare results with ground truth\n",
    "gt_hit_points = bin2array('input/intercepts', np.float32)\n",
    "gt_hit_triangles = bin2array('input/intersect_triangle', np.int32, dims=1)\n",
    "gt_intersecting_rays = gtidx = np.where(gt_hit_triangles >= 0)[0]\n",
    "gt_hit_points = gt_hit_points[gtidx]\n",
    "gt_hit_triangles = gt_hit_triangles[gtidx]\n",
    "gt_distances = np.sqrt(np.sum((gt_hit_points - rayFrom[gtidx])**2, axis=1))"
   ]
  },
  {
   "cell_type": "code",
   "execution_count": null,
   "id": "72ea64a0",
   "metadata": {},
   "outputs": [],
   "source": [
    "import pandas as pd\n",
    "print('Running GPU code in barycentric output mode\\n')\n",
    "print('Ray-surface intersections: detected:{} (actual:{})'.format(len(intersecting_rays), len(gt_intersecting_rays)))\n",
    "print('Undetected rays (FN): {}'.format(np.setdiff1d(gt_intersecting_rays, intersecting_rays)))\n",
    "print('False detections (FP): {}'.format(np.setdiff1d(intersecting_rays, gt_intersecting_rays)))\n",
    "\n",
    "df1 = pd.DataFrame(np.c_[hit_triangles, hit_points, distances],\n",
    "                   columns=['triangle','px','py','pz','dist'],\n",
    "                   index=intersecting_rays)\n",
    "df2 = pd.DataFrame(np.c_[gt_hit_triangles, gt_hit_points, gt_distances],\n",
    "                   columns=['gt_triangle','gt_px','gt_py','gt_pz','gt_dist'],\n",
    "                   index=intersecting_rays)\n",
    "dfc = pd.merge(df1, df2, left_index=True, right_index=True)\n",
    "\n",
    "n_same = sum(dfc['triangle']==dfc['gt_triangle'])\n",
    "print('Intersecting triangles: {}/{} ({}%) identical'.format(\n",
    "       n_same, len(dfc), (100.*n_same)/len(dfc)))\n",
    "\n",
    "p1 = dfc[['px','py','pz']].values\n",
    "p2 = dfc[['gt_px','gt_py','gt_pz']].values\n",
    "pc = np.abs(np.sqrt(np.sum((p2 - p1)**2, axis=1))) < 0.001\n",
    "print('Intersecting points:    {}/{} ({}%) equivalent'.format(\n",
    "       sum(pc), len(pc), (100.*sum(pc))/len(pc)))\n",
    "\n",
    "dc = np.isclose(dfc['dist'], dfc['gt_dist'])\n",
    "print('Computed intersecting distances: {}/{} ({}%) equivalent'.format(\n",
    "       sum(dc), len(dc), (100.*sum(dc))/len(dc)))"
   ]
  },
  {
   "cell_type": "code",
   "execution_count": null,
   "id": "66255280",
   "metadata": {},
   "outputs": [],
   "source": [
    "#- check out some values\n",
    "dfc.iloc[:8]"
   ]
  },
  {
   "cell_type": "code",
   "execution_count": null,
   "id": "81f8b806",
   "metadata": {},
   "outputs": [],
   "source": [
    "rsi.cleanup()"
   ]
  }
 ],
 "metadata": {
  "kernelspec": {
   "display_name": "Python 3 (ipykernel)",
   "language": "python",
   "name": "python3"
  },
  "language_info": {
   "codemirror_mode": {
    "name": "ipython",
    "version": 3
   },
   "file_extension": ".py",
   "mimetype": "text/x-python",
   "name": "python",
   "nbconvert_exporter": "python",
   "pygments_lexer": "ipython3",
   "version": "3.9.7"
  }
 },
 "nbformat": 4,
 "nbformat_minor": 5
}
