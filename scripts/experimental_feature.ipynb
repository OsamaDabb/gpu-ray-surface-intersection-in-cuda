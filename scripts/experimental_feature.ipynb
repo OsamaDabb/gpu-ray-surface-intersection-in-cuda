{
 "cells": [
  {
   "cell_type": "markdown",
   "id": "110003a2",
   "metadata": {},
   "source": [
    "## gpu-rsi experimental feature\n",
    "- This notebook uses the bvhIntersectionKernel API that returns the number of ray-surface intersections\n",
    "- The odd/even parity test is used to indicate points inside/outside the surface"
   ]
  },
  {
   "cell_type": "code",
   "execution_count": 1,
   "id": "4c730262",
   "metadata": {},
   "outputs": [],
   "source": [
    "__copyright__ = \"Copyright (c) 2022, Raymond Leung\"\n",
    "__license__   = \"BSD-3-clause\""
   ]
  },
  {
   "cell_type": "code",
   "execution_count": null,
   "id": "f7971f42",
   "metadata": {},
   "outputs": [],
   "source": [
    "import numpy as np\n",
    "import os, shutil, sys\n",
    "import re\n",
    "import requests\n",
    "import zipfile\n",
    "from gpu_ray_surface_intersect import PyGpuRSI"
   ]
  },
  {
   "cell_type": "code",
   "execution_count": null,
   "id": "e34878a8",
   "metadata": {},
   "outputs": [],
   "source": [
    "GPU_CODE_DIR = os.getcwd().replace('scripts', '')\n",
    "WORK_DIR = os.getcwd().replace('scripts', 'scratch')\n",
    "DATA_DIR = os.path.join(WORK_DIR, 'input')\n",
    "if not os.path.exists(DATA_DIR):\n",
    "    os.makedirs(DATA_DIR)\n",
    "os.chdir(WORK_DIR)"
   ]
  },
  {
   "cell_type": "code",
   "execution_count": null,
   "id": "bd624da8",
   "metadata": {},
   "outputs": [],
   "source": [
    "# For testing, use a hole-filled version of the \"Stanford Bunny\" surface provided by\n",
    "# Morgan McGuire, Computer Graphics Archive, July 2017\n",
    "# (https://casual-effects.com/g3d/data10/research/model/bunny/bunny.zip)\n",
    "# (c) 1996 Stanford University (www.graphics.stanford.edu/dat/3Dscanrep/)\n",
    "\n",
    "url='http://casual-effects.com/g3d/data10/research/model/bunny/bunny.zip'\n",
    "hdr={'User-Agent': 'Mozilla/5.0 (Macintosh; Intel Mac OS X 10_9_3) AppleWebKit/537.36 (KHTML, like Gecko) Chrome/35.0.1916.47 Safari/537.36'}\n",
    "\n",
    "def download_file(url):\n",
    "    local_filename = url.split('/')[-1]\n",
    "    with requests.get(url, headers=hdr, stream=True) as r:\n",
    "        r.raise_for_status()\n",
    "        with open(local_filename, 'wb') as f:\n",
    "            for chunk in r.iter_content(chunk_size=8192): \n",
    "                f.write(chunk)\n",
    "    print('downloaded ' + local_filename)\n",
    "    return local_filename\n",
    "\n",
    "filename = download_file(url)\n",
    "datafile = os.path.join(os.getcwd(), filename) \n",
    "with zipfile.ZipFile(datafile, 'r') as zobj:\n",
    "    zobj.extractall()\n",
    "# If any issue is encountered, download the file directly from the url\n",
    "# unzip it and put bunny.obj in the scratch/ directory before proceeding"
   ]
  },
  {
   "cell_type": "code",
   "execution_count": null,
   "id": "145f09aa",
   "metadata": {},
   "outputs": [],
   "source": [
    "# Parse the .obj file\n",
    "# - read triangle mesh surface from .obj file, return vertices and triangles\n",
    "#   as (nV,3) and (nT,3) arrays. For the Stanford Bunny, nV=72027 and nT=144046\n",
    "# - min: [-0.9559, 0.021, -0.543]\n",
    "# - max: [0.6579, 1.6418, 0.6895]\n",
    "# - range: [1.6138, 1.6208, 1.2325]\n",
    "\n",
    "rv = re.compile(r'^v\\s+(?P<vx>-?[\\d\\.]+)\\s+(?P<vy>-?[\\d\\.]+)\\s+(?P<vz>-?[\\d\\.]+)', re.MULTILINE)\n",
    "rf = re.compile(r'^f\\s+(?P<fa>[\\d]+)/[\\d]+/[\\d]+\\s+(?P<fb>[\\d]+)/[\\d]+/[\\d]+\\s+(?P<fc>[\\d]+)/[\\d]+/[\\d]+\\s+', re.MULTILINE)\n",
    "str2float = lambda m: [float(m.group('vx')),float(m.group('vy')),float(m.group('vz'))]\n",
    "str2int = lambda m: [int(m.group('fa')),int(m.group('fb')),int(m.group('fc'))]\n",
    "\n",
    "with open(\"bunny.obj\") as f:\n",
    "    raw_data = f.read()\n",
    "    # Generate mesh vertices and triangles\n",
    "    vertices = np.array([str2float(match) for match in rv.finditer(raw_data)])\n",
    "    triangles = np.array([str2int(match) for match in rf.finditer(raw_data)]) - 1 #index starts at 0\n",
    "\n",
    "xyz_max = np.max(vertices,axis=0)\n",
    "xyz_min = np.min(vertices,axis=0)\n",
    "xyz_range = xyz_max - xyz_min\n",
    "\n",
    "# Generate line segments\n",
    "# - pick starting points randomly\n",
    "n = 1000000\n",
    "np.random.seed(6204)\n",
    "rayFrom = xyz_min - 0.15 * xyz_range + np.random.rand(n,3) * (1.3 * xyz_range)\n",
    "rayTo = rayFrom + 2 * xyz_range[-1] * np.r_[0,0,1.]\n",
    "rayUp = rayTo\n",
    "rayDown = 2 * rayFrom - rayTo\n",
    "\n",
    "# Write data to binary files\n",
    "fw = lambda f: os.path.join(os.getcwd(), f)\n",
    "verts = np.array(vertices.flatten(),'float32')\n",
    "tris = np.array(triangles.flatten(),'int32')\n",
    "pFrom = np.array(rayFrom.flatten(),'float32')\n",
    "pUp = np.array(rayUp.flatten(),'float32')\n",
    "pDown = np.array(rayDown.flatten(),'float32')\n",
    "with open(fw('vertices_f32'), 'wb') as f:\n",
    "    verts.tofile(f)\n",
    "with open(fw('triangles_i32'), 'wb') as f:\n",
    "    tris.tofile(f)\n",
    "with open(fw('rayFrom_f32'), 'wb') as f:\n",
    "    pFrom.tofile(f)\n",
    "with open(fw('rayUp_f32'), 'wb') as f:\n",
    "    pUp.tofile(f)\n",
    "with open(fw('rayDown_f32'), 'wb') as f:\n",
    "    pDown.tofile(f)"
   ]
  },
  {
   "cell_type": "markdown",
   "id": "e3b0e1f8",
   "metadata": {},
   "source": [
    "#### (Part C) Run CUDA program in \"intercept_count\" mode to return number of ray-surface intersections"
   ]
  },
  {
   "cell_type": "code",
   "execution_count": null,
   "id": "8d776ea2",
   "metadata": {},
   "outputs": [],
   "source": [
    "# Configuration\n",
    "parms = {'mode':'intercept_count', 'keep_cuda_binary': False}"
   ]
  },
  {
   "cell_type": "code",
   "execution_count": null,
   "id": "4efed16e",
   "metadata": {},
   "outputs": [],
   "source": [
    "# GPU ray-segment surface intersection tests are invoked below\n",
    "rsi = PyGpuRSI(GPU_CODE_DIR, WORK_DIR, cfg=parms)\n",
    "\n",
    "#(a) cast the ray upward\n",
    "surface_intersections = {}\n",
    "surface_intersections['up'] = rsi.test(vertices, triangles, rayFrom, rayUp)\n",
    "#(b) cast the ray downward\n",
    "surface_intersections['down'] = rsi.test(vertices, triangles, rayFrom, rayDown)\n",
    "\n",
    "for dir in ['up', 'down']:\n",
    "    hits, freq = np.unique(surface_intersections[dir], return_counts=1)\n",
    "    desc = ', '.join(['{}:{}'.format(k,v) for k,v in zip(hits, freq)])\n",
    "    print('{}: {}'.format(dir, desc))"
   ]
  },
  {
   "cell_type": "code",
   "execution_count": null,
   "id": "da7309a1",
   "metadata": {},
   "outputs": [],
   "source": [
    "# Interpret points as inside surface for odd parity\n",
    "within_surface = np.logical_and(np.mod(surface_intersections['up'], 2) == 1,\n",
    "                                np.mod(surface_intersections['down'], 2) == 1)"
   ]
  },
  {
   "cell_type": "code",
   "execution_count": null,
   "id": "3d510379",
   "metadata": {},
   "outputs": [],
   "source": [
    "from matplotlib import pyplot as plt\n",
    "from mpl_toolkits.mplot3d import Axes3D\n",
    "rayFrom = np.fromfile('input/rayFrom_f32', dtype=np.float32).reshape((1000000,3))\n",
    "fig = plt.figure(figsize=(16,12))\n",
    "ax = fig.add_subplot(projection='3d')\n",
    "idx = np.where(within_surface)\n",
    "ax.scatter(rayFrom[idx,0], -rayFrom[idx,2], rayFrom[idx,1], s=8)\n",
    "ax.view_init(elev=20., azim=100)\n",
    "plt.show()"
   ]
  },
  {
   "cell_type": "code",
   "execution_count": null,
   "id": "304aebd1",
   "metadata": {},
   "outputs": [],
   "source": [
    "rsi.cleanup()\n",
    "os.remove(os.path.join(WORK_DIR, 'bunny.obj'))"
   ]
  }
 ],
 "metadata": {
  "kernelspec": {
   "display_name": "Python 3 (ipykernel)",
   "language": "python",
   "name": "python3"
  },
  "language_info": {
   "codemirror_mode": {
    "name": "ipython",
    "version": 3
   },
   "file_extension": ".py",
   "mimetype": "text/x-python",
   "name": "python",
   "nbconvert_exporter": "python",
   "pygments_lexer": "ipython3",
   "version": "3.9.12"
  }
 },
 "nbformat": 4,
 "nbformat_minor": 5
}
